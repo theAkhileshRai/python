{
  "nbformat": 4,
  "nbformat_minor": 0,
  "metadata": {
    "colab": {
      "name": "BasicOops.ipynb",
      "provenance": [],
      "authorship_tag": "ABX9TyNGCGbMamTBwGWwIUrLwqhZ",
      "include_colab_link": true
    },
    "kernelspec": {
      "name": "python3",
      "display_name": "Python 3"
    }
  },
  "cells": [
    {
      "cell_type": "markdown",
      "metadata": {
        "id": "view-in-github",
        "colab_type": "text"
      },
      "source": [
        "<a href=\"https://colab.research.google.com/github/theAkhileshRai/python/blob/master/BasicOops.ipynb\" target=\"_parent\"><img src=\"https://colab.research.google.com/assets/colab-badge.svg\" alt=\"Open In Colab\"/></a>"
      ]
    },
    {
      "cell_type": "markdown",
      "metadata": {
        "id": "WmHHxoLuE-5W",
        "colab_type": "text"
      },
      "source": [
        "##MANUAL  Neural Network"
      ]
    },
    {
      "cell_type": "code",
      "metadata": {
        "id": "PBVsIMDMyIaN",
        "colab_type": "code",
        "colab": {}
      },
      "source": [
        "class SimpleClass():\n",
        "\n",
        "  def __init__(self):\n",
        "    print(\"start\")\n",
        "\n",
        "\n",
        "  def yell(self):\n",
        "    print(\"Yelling\")"
      ],
      "execution_count": 0,
      "outputs": []
    },
    {
      "cell_type": "code",
      "metadata": {
        "id": "_CNLHgw0FbOL",
        "colab_type": "code",
        "colab": {
          "base_uri": "https://localhost:8080/",
          "height": 52
        },
        "outputId": "b52a5c2a-89b1-4348-fe61-6e7c723b8c97"
      },
      "source": [
        "a = SimpleClass()\n",
        "a.yell()"
      ],
      "execution_count": 5,
      "outputs": [
        {
          "output_type": "stream",
          "text": [
            "start\n",
            "Yelling\n"
          ],
          "name": "stdout"
        }
      ]
    },
    {
      "cell_type": "code",
      "metadata": {
        "id": "3hufifS3GB-t",
        "colab_type": "code",
        "colab": {}
      },
      "source": [
        "class ExtendClass(SimpleClass):\n",
        "  def __init__(self):\n",
        "    super().__init__()\n",
        "\n",
        "\n",
        "  def hello(self):\n",
        "    print(\"hello\")\n",
        "    super().yell()\n",
        "  \n"
      ],
      "execution_count": 0,
      "outputs": []
    },
    {
      "cell_type": "code",
      "metadata": {
        "id": "uUbyxf8MGzxW",
        "colab_type": "code",
        "colab": {
          "base_uri": "https://localhost:8080/",
          "height": 69
        },
        "outputId": "15aea36c-4f93-4aa1-b008-1eb341dbdfa4"
      },
      "source": [
        "extend = ExtendClass()\n",
        "extend.hello()"
      ],
      "execution_count": 9,
      "outputs": [
        {
          "output_type": "stream",
          "text": [
            "start\n",
            "hello\n",
            "Yelling\n"
          ],
          "name": "stdout"
        }
      ]
    },
    {
      "cell_type": "markdown",
      "metadata": {
        "id": "JJLPIIY8E9W7",
        "colab_type": "text"
      },
      "source": [
        ""
      ]
    }
  ]
}