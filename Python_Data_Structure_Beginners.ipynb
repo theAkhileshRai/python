{
  "nbformat": 4,
  "nbformat_minor": 0,
  "metadata": {
    "colab": {
      "name": "Python Data Structure_Beginners.ipynb",
      "provenance": [],
      "authorship_tag": "ABX9TyNjq9e4B8UAq93u8lgBdahb",
      "include_colab_link": true
    },
    "kernelspec": {
      "name": "python3",
      "display_name": "Python 3"
    },
    "accelerator": "GPU"
  },
  "cells": [
    {
      "cell_type": "markdown",
      "metadata": {
        "id": "view-in-github",
        "colab_type": "text"
      },
      "source": [
        "<a href=\"https://colab.research.google.com/github/theAkhileshRai/python/blob/master/Python_Data_Structure_Beginners.ipynb\" target=\"_parent\"><img src=\"https://colab.research.google.com/assets/colab-badge.svg\" alt=\"Open In Colab\"/></a>"
      ]
    },
    {
      "cell_type": "code",
      "metadata": {
        "id": "8Wf718f9fzgS",
        "colab_type": "code",
        "colab": {}
      },
      "source": [
        "listOne = [3, 6, 9, 12, 15, 18, 21]\n",
        "listTwo = [4, 8, 12, 16, 20, 24, 28]"
      ],
      "execution_count": 0,
      "outputs": []
    },
    {
      "cell_type": "markdown",
      "metadata": {
        "id": "JQhf5PkXgHhY",
        "colab_type": "text"
      },
      "source": [
        "##1 Exercise Question 1: Given a two list. Create a third list by picking an odd-index element from the first list and even index elements from second.\n",
        "\n"
      ]
    },
    {
      "cell_type": "code",
      "metadata": {
        "id": "iWgN-FjFgEi0",
        "colab_type": "code",
        "colab": {}
      },
      "source": [
        "listThreeOdd = listOne[1::2]\n",
        "listThreeEven = listTwo[0::2]"
      ],
      "execution_count": 0,
      "outputs": []
    },
    {
      "cell_type": "code",
      "metadata": {
        "id": "WgWf2pWegqbH",
        "colab_type": "code",
        "outputId": "7b969fd0-b2ce-4015-8add-0ed53beb00c3",
        "colab": {
          "base_uri": "https://localhost:8080/",
          "height": 34
        }
      },
      "source": [
        "listThreeOdd"
      ],
      "execution_count": 0,
      "outputs": [
        {
          "output_type": "execute_result",
          "data": {
            "text/plain": [
              "[6, 12, 18]"
            ]
          },
          "metadata": {
            "tags": []
          },
          "execution_count": 6
        }
      ]
    },
    {
      "cell_type": "code",
      "metadata": {
        "id": "QNPliN2Cgnpi",
        "colab_type": "code",
        "outputId": "c6220811-c93a-465b-b9c5-118be4a07b16",
        "colab": {
          "base_uri": "https://localhost:8080/",
          "height": 34
        }
      },
      "source": [
        "listThreeEven"
      ],
      "execution_count": 0,
      "outputs": [
        {
          "output_type": "execute_result",
          "data": {
            "text/plain": [
              "[4, 12, 20, 28]"
            ]
          },
          "metadata": {
            "tags": []
          },
          "execution_count": 5
        }
      ]
    },
    {
      "cell_type": "markdown",
      "metadata": {
        "id": "JXX8mb_tMWbs",
        "colab_type": "text"
      },
      "source": [
        "## Exercise Question 2: Given an input list removes the element at index 4 and add it to the 2nd position and also, at the end of the list"
      ]
    },
    {
      "cell_type": "code",
      "metadata": {
        "id": "lRF7xJveMVjy",
        "colab_type": "code",
        "colab": {
          "base_uri": "https://localhost:8080/",
          "height": 34
        },
        "outputId": "7412cc0b-a7ff-410e-c906-db523369abd5"
      },
      "source": [
        "sampleList = [34, 54, 67, 89, 11, 43, 94]\n",
        "element = sampleList.pop(4)\n",
        "sampleList.insert(2, element)\n",
        "sampleList.append(element)\n",
        "sampleList"
      ],
      "execution_count": 4,
      "outputs": [
        {
          "output_type": "execute_result",
          "data": {
            "text/plain": [
              "[34, 54, 11, 67, 89, 43, 94, 11]"
            ]
          },
          "metadata": {
            "tags": []
          },
          "execution_count": 4
        }
      ]
    },
    {
      "cell_type": "markdown",
      "metadata": {
        "id": "AXSqg9g9NqG3",
        "colab_type": "text"
      },
      "source": [
        "## Exercise Question 3: Given a list slice it into a 3 equal chunks and rever each list\n",
        "\n"
      ]
    },
    {
      "cell_type": "code",
      "metadata": {
        "id": "qNIr7EYkg2ea",
        "colab_type": "code",
        "colab": {
          "base_uri": "https://localhost:8080/",
          "height": 138
        },
        "outputId": "7182a21e-51ca-499a-f140-ec2497ac08f1"
      },
      "source": [
        "sampleList = [11, 45, 8, 23, 14, 12, 78, 45, 89]\n",
        "\n",
        "print(\"Original list \", sampleList)\n",
        "\n",
        "length = len(sampleList)\n",
        "chunkSize  = int(length/3)\n",
        "start = 0\n",
        "end = chunkSize\n",
        "for i in range(1, 4, 1):\n",
        "  indexes = slice(start, end, 1)\n",
        "  listChunk = sampleList[indexes]\n",
        "  print(\"Chunk \", i , listChunk)\n",
        "  print(\"After reversing it \", list(reversed(listChunk)))\n",
        "  start = end\n",
        "  if(i != 2):\n",
        "    end +=chunkSize\n",
        "  else:\n",
        "    end += length - chunkSize"
      ],
      "execution_count": 1,
      "outputs": [
        {
          "output_type": "stream",
          "text": [
            "Original list  [11, 45, 8, 23, 14, 12, 78, 45, 89]\n",
            "Chunk  1 [11, 45, 8]\n",
            "After reversing it  [8, 45, 11]\n",
            "Chunk  2 [23, 14, 12]\n",
            "After reversing it  [12, 14, 23]\n",
            "Chunk  3 [78, 45, 89]\n",
            "After reversing it  [89, 45, 78]\n"
          ],
          "name": "stdout"
        }
      ]
    },
    {
      "cell_type": "markdown",
      "metadata": {
        "id": "V371SVslBiSu",
        "colab_type": "text"
      },
      "source": [
        "## Exercise Question 5: Given a two list of equal size create a set such that it shows the element from both lists in the pair"
      ]
    },
    {
      "cell_type": "code",
      "metadata": {
        "id": "9uKEcXXaBg82",
        "colab_type": "code",
        "colab": {
          "base_uri": "https://localhost:8080/",
          "height": 69
        },
        "outputId": "205d4706-af2e-43d0-edc8-6486971176cf"
      },
      "source": [
        "firstList = [2, 3, 4, 5, 6, 7, 8]\n",
        "print(\"First List \", firstList)\n",
        "\n",
        "secondList = [4, 9, 16, 25, 36, 49, 64]\n",
        "print(\"Second List \", secondList)\n",
        "\n",
        "result = zip(firstList, secondList)\n",
        "resultSet = set(result)\n",
        "print(resultSet)"
      ],
      "execution_count": 1,
      "outputs": [
        {
          "output_type": "stream",
          "text": [
            "First List  [2, 3, 4, 5, 6, 7, 8]\n",
            "Second List  [4, 9, 16, 25, 36, 49, 64]\n",
            "{(6, 36), (8, 64), (4, 16), (5, 25), (3, 9), (7, 49), (2, 4)}\n"
          ],
          "name": "stdout"
        }
      ]
    },
    {
      "cell_type": "markdown",
      "metadata": {
        "id": "Eh4H7xpVDC1X",
        "colab_type": "text"
      },
      "source": [
        "## Exercise Question 6: Given a following two sets find the intersection and remove those elements from the first set\n",
        "\n"
      ]
    },
    {
      "cell_type": "code",
      "metadata": {
        "id": "F3SdF7p2BpkM",
        "colab_type": "code",
        "colab": {
          "base_uri": "https://localhost:8080/",
          "height": 86
        },
        "outputId": "cded50d8-8ca6-45e6-9ac3-bcf2f6833573"
      },
      "source": [
        "firstSet  = {23, 42, 65, 57, 78, 83, 29}\n",
        "secondSet = {57, 83, 29, 67, 73, 43, 48}\n",
        "\n",
        "print(\"First Set \", firstSet)\n",
        "print(\"Second Set \", secondSet)\n",
        "\n",
        "intersection = firstSet.intersection(secondSet)\n",
        "print(\"Intersection is \", intersection)\n",
        "for item in intersection:\n",
        "  firstSet.remove(item)\n",
        "\n",
        "print(\"First Set after removing common element \", firstSet)"
      ],
      "execution_count": 2,
      "outputs": [
        {
          "output_type": "stream",
          "text": [
            "First Set  {65, 42, 78, 83, 23, 57, 29}\n",
            "Second Set  {67, 73, 43, 48, 83, 57, 29}\n",
            "Intersection is  {57, 83, 29}\n",
            "First Set after removing common element  {65, 42, 78, 23}\n"
          ],
          "name": "stdout"
        }
      ]
    },
    {
      "cell_type": "markdown",
      "metadata": {
        "id": "zQInGaq0F8i6",
        "colab_type": "text"
      },
      "source": [
        "## Exercise Question 7: Given two sets, Checks if One Set is Subset or superset of Another Set. if the subset is found delete all elements from that set"
      ]
    },
    {
      "cell_type": "code",
      "metadata": {
        "id": "82NRXXGasH5B",
        "colab_type": "code",
        "colab": {
          "base_uri": "https://localhost:8080/",
          "height": 121
        },
        "outputId": "f651a9a5-4ac6-412c-aa71-6c835f02d66a"
      },
      "source": [
        "firstSet  = {57, 83, 29}\n",
        "secondSet = {57, 83, 29, 67, 73, 43, 48}\n",
        "\n",
        "print(\"First Set \", firstSet)\n",
        "print(\"Second Set \", secondSet)\n",
        "\n",
        "print(\"First set is subset of second set -\", firstSet.issubset(secondSet))\n",
        "print(\"Second set is subset of First set - \", secondSet.issubset(firstSet))\n",
        "\n",
        "print(\"First set is Super set of second set - \", firstSet.issuperset(secondSet))\n",
        "print(\"Second set is Super set of First set - \", secondSet.issuperset(firstSet))"
      ],
      "execution_count": 3,
      "outputs": [
        {
          "output_type": "stream",
          "text": [
            "First Set  {57, 83, 29}\n",
            "Second Set  {67, 73, 43, 48, 83, 57, 29}\n",
            "First set is subset of second set - True\n",
            "Second set is subset of First set -  False\n",
            "First set is Super set of second set -  False\n",
            "Second set is Super set of First set -  True\n"
          ],
          "name": "stdout"
        }
      ]
    },
    {
      "cell_type": "markdown",
      "metadata": {
        "id": "Vpwqi58dGSkv",
        "colab_type": "text"
      },
      "source": [
        "## Exercise Question 8: Iterate a given list and Check if a given element already exists in a dictionary as a key’s value if not delete it from the list"
      ]
    },
    {
      "cell_type": "code",
      "metadata": {
        "id": "oyNAWAPrXnB-",
        "colab_type": "code",
        "colab": {
          "base_uri": "https://localhost:8080/",
          "height": 69
        },
        "outputId": "8e9276f9-4c22-46b3-c3fc-ebbaa2b551ef"
      },
      "source": [
        "rollNumber  = [47, 64, 69, 37, 76, 83, 95, 97]\n",
        "sampleDict  ={'Jhon':47, 'Emma':69, 'Kelly':76, 'Jason':97} \n",
        "\n",
        "print(\"List -\", rollNumber)\n",
        "print(\"Dictionary - \", sampleDict)\n",
        "\n",
        "rollNumber[:] = [item for item in rollNumber if item in sampleDict.values()]\n",
        "print(\"after removing unwanted elemnts from list \", rollNumber)"
      ],
      "execution_count": 1,
      "outputs": [
        {
          "output_type": "stream",
          "text": [
            "List - [47, 64, 69, 37, 76, 83, 95, 97]\n",
            "Dictionary -  {'Jhon': 47, 'Emma': 69, 'Kelly': 76, 'Jason': 97}\n",
            "after removing unwanted elemnts from list  [47, 69, 76, 97]\n"
          ],
          "name": "stdout"
        }
      ]
    }
  ]
}