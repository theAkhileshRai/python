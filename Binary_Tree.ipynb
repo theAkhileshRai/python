{
  "nbformat": 4,
  "nbformat_minor": 0,
  "metadata": {
    "colab": {
      "name": "Binary Tree.ipynb",
      "provenance": [],
      "authorship_tag": "ABX9TyO2lSJwKd8LAy54dTcquhUL",
      "include_colab_link": true
    },
    "kernelspec": {
      "name": "python3",
      "display_name": "Python 3"
    }
  },
  "cells": [
    {
      "cell_type": "markdown",
      "metadata": {
        "id": "view-in-github",
        "colab_type": "text"
      },
      "source": [
        "<a href=\"https://colab.research.google.com/github/theAkhileshRai/python/blob/master/Binary_Tree.ipynb\" target=\"_parent\"><img src=\"https://colab.research.google.com/assets/colab-badge.svg\" alt=\"Open In Colab\"/></a>"
      ]
    },
    {
      "cell_type": "code",
      "metadata": {
        "id": "Qz0eOY0T4ps7",
        "colab_type": "code",
        "colab": {
          "base_uri": "https://localhost:8080/",
          "height": 34
        },
        "outputId": "34fc1d76-2d67-4a0c-84de-d0a8229e5cdb"
      },
      "source": [
        "class Node:\n",
        "\n",
        "    def __init__(self, data):\n",
        "\n",
        "        self.left = None\n",
        "        self.right = None\n",
        "        self.data = data\n",
        "\n",
        "\n",
        "    def PrintTree(self):\n",
        "        print(self.data)\n",
        "\n",
        "root = Node(10)\n",
        "\n",
        "root.PrintTree()"
      ],
      "execution_count": 1,
      "outputs": [
        {
          "output_type": "stream",
          "text": [
            "10\n"
          ],
          "name": "stdout"
        }
      ]
    },
    {
      "cell_type": "markdown",
      "metadata": {
        "id": "z7MUl9418BFY",
        "colab_type": "text"
      },
      "source": [
        "## Inserting into a Tree\n",
        "\n",
        "To insert into a tree we use the same node class created above and add a insert class to it. The insert class compares the value of the node to the parent node and decides to add it as a left node or a right node. Finally the PrintTree class is used to print the tree."
      ]
    },
    {
      "cell_type": "code",
      "metadata": {
        "id": "Mwm9vA2g72a5",
        "colab_type": "code",
        "colab": {}
      },
      "source": [
        "class Node:\n",
        "\n",
        "    def __init__(self, data):\n",
        "\n",
        "        self.left = None\n",
        "        self.right = None\n",
        "        self.data = data\n",
        "\n",
        "    def insert(self, data):\n",
        "# Compare the new value with the parent node\n",
        "        if self.data:\n",
        "            if data < self.data:\n",
        "                if self.left is None:\n",
        "                    self.left = Node(data)\n",
        "                else:\n",
        "                    self.left.insert(data)\n",
        "            elif data > self.data:\n",
        "                if self.right is None:\n",
        "                    self.right = Node(data)\n",
        "                else:\n",
        "                    self.right.insert(data)\n",
        "        else:\n",
        "            self.data = data\n",
        "\n",
        "# Print the tree\n",
        "    def PrintTree(self):\n",
        "        if self.left:\n",
        "            self.left.PrintTree()\n",
        "        print( self.data),\n",
        "        if self.right:\n",
        "            self.right.PrintTree()\n",
        "\n"
      ],
      "execution_count": 0,
      "outputs": []
    },
    {
      "cell_type": "markdown",
      "metadata": {
        "id": "8MBOtB-lBF30",
        "colab_type": "text"
      },
      "source": [
        "## A Binary Search Tree (BST) \n",
        "\n",
        "is a tree in which all the nodes follow the below-mentioned properties − The left sub-tree of a node has a key less than or equal to its parent node's key. The right sub-tree of a node has a key greater than to its parent node's key. Thus, BST divides all its sub-trees into two segments; the left sub-tree and the right sub-tree and can be defined as –\n",
        "\n",
        "left_subtree (keys)  ≤  node (key)  ≤  right_subtree (keys)\n",
        "Search for a value in a B-tree\n",
        "\n",
        "Searching for a value in a tree involves comparing the incoming value with the value exiting nodes. Here also we traverse the nodes from left to right and then finally with the parent. If the searched for value does not match any of the exitign value, then we return not found message else the found message is returned."
      ]
    },
    {
      "cell_type": "code",
      "metadata": {
        "id": "hnx5qe7vBDmh",
        "colab_type": "code",
        "colab": {
          "base_uri": "https://localhost:8080/",
          "height": 69
        },
        "outputId": "7ba1c267-939b-4b03-bc29-9c2a2ebcb609"
      },
      "source": [
        "class Node:\n",
        "\n",
        "    def __init__(self, data):\n",
        "\n",
        "        self.left = None\n",
        "        self.right = None\n",
        "        self.data = data\n",
        "\n",
        "# Insert method to create nodes\n",
        "    def insert(self, data):\n",
        "\n",
        "        if self.data:\n",
        "            if data < self.data:\n",
        "                if self.left is None:\n",
        "                    self.left = Node(data)\n",
        "                else:\n",
        "                    self.left.insert(data)\n",
        "            elif data > self.data:\n",
        "                if self.right is None:\n",
        "                    self.right = Node(data)\n",
        "                else:\n",
        "                    self.right.insert(data)\n",
        "        else:\n",
        "            self.data = data\n",
        "# findval method to compare the value with nodes\n",
        "    def findval(self, lkpval):\n",
        "        if lkpval < self.data:\n",
        "            if self.left is None:\n",
        "                return str(lkpval)+\" Not Found\"\n",
        "            return self.left.findval(lkpval)\n",
        "        elif lkpval > self.data:\n",
        "            if self.right is None:\n",
        "                return str(lkpval)+\" Not Found\"\n",
        "            return self.right.findval(lkpval)\n",
        "        else:\n",
        "            print(str(self.data) + ' is found')\n",
        "# Print the tree\n",
        "    def PrintTree(self):\n",
        "        if self.left:\n",
        "            self.left.PrintTree()\n",
        "        print( self.data),\n",
        "        if self.right:\n",
        "            self.right.PrintTree()\n",
        "\n",
        "\n",
        "root = Node(12)\n",
        "root.insert(6)\n",
        "root.insert(14)\n",
        "root.insert(3)\n",
        "print(root.findval(7))\n",
        "print(root.findval(14))"
      ],
      "execution_count": 3,
      "outputs": [
        {
          "output_type": "stream",
          "text": [
            "7 Not Found\n",
            "14 is found\n",
            "None\n"
          ],
          "name": "stdout"
        }
      ]
    }
  ]
}